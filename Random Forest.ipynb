{
 "cells": [
  {
   "cell_type": "code",
   "execution_count": 286,
   "metadata": {},
   "outputs": [],
   "source": [
    "import pandas as pd\n",
    "import numpy as np\n",
    "import math\n",
    "import matplotlib.pyplot as plt\n",
    "\n",
    "from sklearn.model_selection import train_test_split\n",
    "\n",
    "from sklearn.ensemble import RandomForestClassifier\n",
    "\n",
    "from sklearn.model_selection import GridSearchCV\n",
    "from sklearn.base import BaseEstimator"
   ]
  },
  {
   "cell_type": "code",
   "execution_count": 287,
   "metadata": {},
   "outputs": [],
   "source": [
    "def print_digit(digit):\n",
    "    pyplot.imshow(digit.reshape(28,28))"
   ]
  },
  {
   "cell_type": "code",
   "execution_count": 288,
   "metadata": {},
   "outputs": [],
   "source": [
    "def gini_index(probability):\n",
    "    return 1.0 - probability**2 - (1.0 - probability)**2"
   ]
  },
  {
   "cell_type": "code",
   "execution_count": 289,
   "metadata": {},
   "outputs": [],
   "source": [
    "data = pd.read_csv('learn.csv')\n",
    "\n",
    "data = data[ (data.answer == 9) | (data.answer == 7)]\n",
    "\n",
    "data = data.sample(10000, axis=0)\n",
    "data = data.reset_index()\n",
    "data = data.drop('index', axis=1)\n",
    "\n",
    "answers = data['answer']\n",
    "data = data.drop('answer', axis=1)"
   ]
  },
  {
   "cell_type": "code",
   "execution_count": 290,
   "metadata": {},
   "outputs": [],
   "source": [
    "x_train, x_test, y_train, y_test = train_test_split(data, answers, test_size=0.2, random_state=42)\n",
    "x_train = np.array(x_train)\n",
    "x_test = np.array(x_test)"
   ]
  },
  {
   "cell_type": "code",
   "execution_count": 291,
   "metadata": {},
   "outputs": [],
   "source": [
    "trees_numb = 11\n",
    "list_size = 4\n",
    "tree_hight = 40"
   ]
  },
  {
   "cell_type": "code",
   "execution_count": 292,
   "metadata": {},
   "outputs": [
    {
     "data": {
      "text/plain": [
       "RandomForestClassifier(bootstrap=True, class_weight=None, criterion='gini',\n",
       "            max_depth=40, max_features='auto', max_leaf_nodes=None,\n",
       "            min_impurity_decrease=0.0, min_impurity_split=None,\n",
       "            min_samples_leaf=4, min_samples_split=2,\n",
       "            min_weight_fraction_leaf=0.0, n_estimators=11, n_jobs=1,\n",
       "            oob_score=False, random_state=None, verbose=0,\n",
       "            warm_start=False)"
      ]
     },
     "execution_count": 292,
     "metadata": {},
     "output_type": "execute_result"
    }
   ],
   "source": [
    "skl_clf = RandomForestClassifier(n_estimators=trees_numb, max_depth=tree_hight, min_samples_leaf=list_size)\n",
    "skl_clf.fit(x_train, y_train)"
   ]
  },
  {
   "cell_type": "code",
   "execution_count": 293,
   "metadata": {},
   "outputs": [],
   "source": [
    "class tree_node:\n",
    "    objects = np.array([])\n",
    "    min_size = 0\n",
    "    sep_index = 0\n",
    "    sep_value = 0\n",
    "    \n",
    "    def __init__ (self, size=50):\n",
    "        self.min_size = size\n",
    "        \n",
    "    def set_children(self, left, right):\n",
    "        self.left = left\n",
    "        self.right = right"
   ]
  },
  {
   "cell_type": "code",
   "execution_count": 294,
   "metadata": {},
   "outputs": [],
   "source": [
    "class decisive_tree:\n",
    "    hight = 0\n",
    "    \n",
    "    def __init__(self, h):\n",
    "        self.hight = h\n",
    "    \n",
    "    def set_root(self, root):\n",
    "        self.root = root\n",
    "    \n",
    "    def insert(self, node, h, func):\n",
    "        if h <= self.hight:\n",
    "            \n",
    "            separator = self.separator(node, func)\n",
    "            node.sep_index = separator[1]\n",
    "            node.sep_value = separator[0]\n",
    "            \n",
    "            left_node = tree_node(node.min_size)\n",
    "            left_node.objects = np.array([obj for obj in node.objects if obj[node.sep_index] <= node.sep_value])\n",
    "            \n",
    "            right_node = tree_node(node.min_size)\n",
    "            right_node.objects = np.array([obj for obj in node.objects if obj[node.sep_index] > node.sep_value])\n",
    "\n",
    "            node.set_children(left_node, right_node)\n",
    "            \n",
    "            if len(left_node.objects) > node.min_size:\n",
    "                self.insert(left_node, h+1, func)\n",
    "    \n",
    "            if len(right_node.objects) > node.min_size:\n",
    "                self.insert(right_node, h+1, func)\n",
    "                \n",
    "    def separator(self, node, func):\n",
    "        indexes = np.arange(0, func(len(x_train[0])), dtype=int)\n",
    "        for i in range(0, len(indexes)):\n",
    "            index = np.random.randint(0, 783)\n",
    "            elem = np.random.randint(0, len(node.objects))\n",
    "            while node.objects[elem][index] == 0:\n",
    "                index = np.random.randint(50, 730)\n",
    "                elem = np.random.randint(0, len(node.objects))\n",
    "            indexes[i] = index    \n",
    "        \n",
    "        means = np.array([node.objects[:, i].sum() / float(len(node.objects)) - 50 for i in indexes])\n",
    "        \n",
    "        entropy = []\n",
    "        \n",
    "        for i in range(0, len(indexes)):\n",
    "            left = []\n",
    "            right = []\n",
    "            for obj in node.objects:\n",
    "                if obj[indexes[i]] <= means[i]:\n",
    "                    left.append(0.0 if obj[784] == 7 else 1.0)\n",
    "                else:\n",
    "                    right.append(0.0 if obj[784] == 7 else 1.0)\n",
    "                    \n",
    "            if len(left) != 0 & len(right) != 0:\n",
    "                entropy.append( gini_index(sum(left) / len(left)) * gini_index(sum(right) / len(right)) )\n",
    "            elif len(left) != 0:\n",
    "                entropy.append(gini_index(sum(left) / len(left)) * 1.0)\n",
    "            else:\n",
    "                entropy.append(gini_index(sum(right) / len(right)) * 1.0)\n",
    "          \n",
    "        index = entropy.index(min(entropy))\n",
    "        \n",
    "        return (means[index], indexes[index])"
   ]
  },
  {
   "cell_type": "code",
   "execution_count": 295,
   "metadata": {},
   "outputs": [],
   "source": [
    "class RandomForestClassifier (BaseEstimator):\n",
    "    numb_of_trees = 0\n",
    "    min_list_size = 0\n",
    "    max_hight = 0\n",
    "    trees = []\n",
    "    more = 0\n",
    "    \n",
    "    def __init__(self, numb_of_trees=10, max_list_size=3, max_hight=15, q_func=math.sqrt):\n",
    "        self.numb_of_trees = numb_of_trees\n",
    "        self.min_list_size = max_list_size\n",
    "        self.max_hight = max_hight\n",
    "        self.q_func = q_func\n",
    "    \n",
    "    def s_or_n(self, sample):\n",
    "        summ = sum([1.0 for i in xrange(0, len(sample)) if sample[i, 784] == 7])\n",
    "        if summ >= len(sample) / 2:\n",
    "            more = 7\n",
    "        else:\n",
    "            more = 9\n",
    "        \n",
    "    def fit(self, train, labels):\n",
    "        train = np.column_stack((train, labels))\n",
    "        \n",
    "        while len(self.trees) != self.numb_of_trees:\n",
    "            sample = np.array([train[np.random.randint(0, len(train)-1)] for i in xrange(0, len(train)/self.numb_of_trees)])\n",
    "            self.s_or_n(sample)\n",
    "            \n",
    "            tree =  decisive_tree(self.max_hight)\n",
    "            root = tree_node(self.min_list_size)\n",
    "            root.objects = sample\n",
    "            \n",
    "            tree.insert(root, 0, self.q_func)\n",
    "            tree.set_root(root)\n",
    "            \n",
    "            self.trees.append(tree)\n",
    "            \n",
    "    def predict(self, x_test):\n",
    "        answers = []\n",
    "        \n",
    "        for obj in x_test:\n",
    "            verdicts = []\n",
    "            for tree in self.trees:\n",
    "                verdicts.append(self.version(tree.root, obj, 0) == 9)\n",
    "            if sum(verdicts) > len(verdicts) / 2:\n",
    "                answers.append(9)\n",
    "            else:\n",
    "                answers.append(7)\n",
    "            \n",
    "        \n",
    "        return answers\n",
    "    \n",
    "    def version(self, node, obj, h):\n",
    "        if obj[node.sep_index] <= node.sep_value:\n",
    "            if (len(node.objects) > self.min_list_size) & (h <= self.max_hight):\n",
    "                return self.version(node.left, obj, h+1)\n",
    "            else:\n",
    "                result = sum([1.0 for i in xrange(0, len(node.objects)) if node.objects[i][784] == 7])\n",
    "                if result > len(node.objects) / 2:\n",
    "                    return 7\n",
    "                elif result < len(node.objects / 2):\n",
    "                    return 9\n",
    "                else:\n",
    "                    return self.more\n",
    "        else:\n",
    "            if len(node.objects) > self.min_list_size & (h <= self.max_hight):\n",
    "                return self.version(node.right, obj, h+1)\n",
    "            else:\n",
    "                result = sum([1.0 for i in xrange(0, len(node.objects)) if node.objects[i][784] == 7])\n",
    "                if result > len(node.objects) / 2:\n",
    "                    return 7\n",
    "                elif result < len(node.objects / 2):\n",
    "                    return 9\n",
    "                else:\n",
    "                    return self.more\n",
    "                \n",
    "    def score(self, x_test, y_test):\n",
    "        answers = np.array(self.predict(x_test))\n",
    "        result = sum(y_test[i] == answers[i] for i in range(0, len(y_test))) / float(len(y_test))\n",
    "        return result"
   ]
  },
  {
   "cell_type": "code",
   "execution_count": 296,
   "metadata": {},
   "outputs": [
    {
     "name": "stdout",
     "output_type": "stream",
     "text": [
      "My result = 0.9375\n",
      "SKLEARN result = 0.98\n"
     ]
    }
   ],
   "source": [
    "y_test = np.array(y_test)   \n",
    "\n",
    "rfc = RandomForestClassifier(numb_of_trees=trees_numb, max_list_size=list_size, max_hight=tree_hight)\n",
    "rfc.fit(x_train, y_train)\n",
    "accuracy = rfc.score(x_test, y_test)\n",
    "    \n",
    "print \"My result = \" + str(round(accuracy, 4))\n",
    "print \"SKLEARN result = \" + str(round(skl_clf.score(x_test, y_test), 4))"
   ]
  }
 ],
 "metadata": {
  "kernelspec": {
   "display_name": "Python 2",
   "language": "python",
   "name": "python2"
  },
  "language_info": {
   "codemirror_mode": {
    "name": "ipython",
    "version": 2
   },
   "file_extension": ".py",
   "mimetype": "text/x-python",
   "name": "python",
   "nbconvert_exporter": "python",
   "pygments_lexer": "ipython2",
   "version": "2.7.14"
  }
 },
 "nbformat": 4,
 "nbformat_minor": 2
}
